{
 "cells": [
  {
   "cell_type": "markdown",
   "id": "85ac30f5-b708-43ad-8966-ca348fe9e171",
   "metadata": {},
   "source": [
    "# Seldonian Algorithm Application on Predicting Students' GPA in Brazil\n",
    "\n",
    "### Author: Dasha Asienga\n",
    "\n",
    "We've seen how the Seldonian Algorithm can be applied to synthetic data in a regression setting. Now, let's extend that further by demonstrating the application to a real-world data set, still within the regression setting. We'll be using a data set that contains anonymized information about an applicant's scores on nine exams taken as part of the application process to a university in Brazil (Federal University of Rio Grande do Sul), as well as their corresponding GPA during the first three semesters at university.\n",
    "\n",
    "The codebook for the data is contained in the `Data Sets` folder of the repository. \n",
    "\n",
    "There are 2 sensitive variables: race and gender. \n",
    "\n",
    "We'll largely mimic the set-up of the tutorial with a few edits to suit our data set, especially when defining our fairness constraints. "
   ]
  },
  {
   "cell_type": "code",
   "execution_count": null,
   "id": "90051861-2d51-4e4e-b3f5-623cd22f68df",
   "metadata": {},
   "outputs": [],
   "source": []
  }
 ],
 "metadata": {
  "kernelspec": {
   "display_name": "Seldonian1",
   "language": "python",
   "name": "seldonian1"
  },
  "language_info": {
   "codemirror_mode": {
    "name": "ipython",
    "version": 3
   },
   "file_extension": ".py",
   "mimetype": "text/x-python",
   "name": "python",
   "nbconvert_exporter": "python",
   "pygments_lexer": "ipython3",
   "version": "3.9.16"
  }
 },
 "nbformat": 4,
 "nbformat_minor": 5
}
